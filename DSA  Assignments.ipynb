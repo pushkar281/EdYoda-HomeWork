{
 "cells": [
  {
   "cell_type": "code",
   "execution_count": 1,
   "metadata": {},
   "outputs": [
    {
     "name": "stdout",
     "output_type": "stream",
     "text": [
      "[2, 3, 4, 5, 6, 7, 1]\n"
     ]
    }
   ],
   "source": [
    "def rotatelinkedlist(link_list, n, d):\n",
    "    temp = []\n",
    "    i = 0\n",
    "    while (i < d):\n",
    "        temp.append(link_list[i])\n",
    "        i = i + 1\n",
    "    i = 0\n",
    "    while (d < n):\n",
    "        link_list[i] = link_list[d]\n",
    "        i = i + 1\n",
    "        d = d + 1\n",
    "    link_list[:] = link_list[: i] + temp\n",
    "    return link_list\n",
    "\n",
    "link_list = [1, 2, 3, 4, 5, 6, 7]\n",
    "print(rotatelinkedlist(link_list, len(link_list), 1))"
   ]
  },
  {
   "cell_type": "code",
   "execution_count": 13,
   "metadata": {},
   "outputs": [
    {
     "name": "stdout",
     "output_type": "stream",
     "text": [
      "[[], [1], [2], [1, 2], [3], [1, 3], [2, 3], [1, 2, 3]]\n"
     ]
    }
   ],
   "source": [
    "def sub_array(l):\n",
    "    base = []  \n",
    "    array = [base]\n",
    "    for i in range(len(l)):\n",
    "        original = array[:]\n",
    "        new = l[i]\n",
    "        for j in range(len(array)):\n",
    "            array[j] = array[j] + [new]\n",
    "        array = original + array\n",
    "          \n",
    "    return array\n",
    "  \n",
    "l1 = [1, 2, 3]\n",
    "print(sub_array(l1))\n",
    "\n"
   ]
  }
 ],
 "metadata": {
  "kernelspec": {
   "display_name": "Python 3",
   "language": "python",
   "name": "python3"
  },
  "language_info": {
   "codemirror_mode": {
    "name": "ipython",
    "version": 3
   },
   "file_extension": ".py",
   "mimetype": "text/x-python",
   "name": "python",
   "nbconvert_exporter": "python",
   "pygments_lexer": "ipython3",
   "version": "3.8.2"
  }
 },
 "nbformat": 4,
 "nbformat_minor": 4
}
